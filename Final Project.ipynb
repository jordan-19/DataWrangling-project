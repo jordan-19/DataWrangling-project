{
 "cells": [
  {
   "cell_type": "markdown",
   "id": "01e2721a",
   "metadata": {},
   "source": [
    "# Hollywood Movies Exploratory Analysis and Visualization\n",
    "\n",
    "## Data Wrangling and Exploratory Data Analysis(SP 2022_CAP5320.01 I&T)- Final Project\n",
    "### Yordanos Jewani\n",
    "![](https://www.wonderslist.com/wp-content/uploads/2018/12/Highest-Grossing-Hollywood-Movies.jpg)\n"
   ]
  },
  {
   "cell_type": "markdown",
   "id": "a042a157",
   "metadata": {},
   "source": [
    "## Introduction\n",
    "\n",
    "I have choosen Hollywood Movie data set for analysis. This spreasheet shows you the movies between 2007 and 2013. The dataset has 16 different columns and 970 rows of data. I will be directing the analysis towards finding answers to  the questions below, and in the process hopefully stumble across new insights as well.\n",
    "\n",
    "Questions about the data:\n",
    "\n",
    "1. Which studios made the highest number of movies?\n",
    "2. Find the genre in which there has been the greatest number of movie releases?\n",
    "3. What are the names of top five movies with highest budget?\n",
    "4. Find the highest rated movie in the \"Love\" story type?\n",
    "5. Is there a relationship between audience rating and profitiability?"
   ]
  },
  {
   "cell_type": "markdown",
   "id": "f341c6a0",
   "metadata": {},
   "source": [
    "## Perform data preparation and cleaning\n",
    "\n",
    "- Load the dataset into a dataframe using Pandas\n",
    "- Explore the number of rows and columns, ranges of values etc.\n",
    "- Handle missing, incorrect, and invaild data\n",
    "- perform any additional steps ( parsing dates, creating additional columns,merging multiple datasets etc.)"
   ]
  },
  {
   "cell_type": "code",
   "execution_count": 687,
   "id": "5ec6c58d",
   "metadata": {},
   "outputs": [],
   "source": [
    "import numpy as np\n",
    "import pandas as pd\n",
    "import matplotlib.pyplot as plt\n",
    "import seaborn as sns\n",
    "plt.rcParams['font.size'] = 14\n",
    "plt.rcParams['figure.figsize'] = (9, 5)\n",
    "plt.rcParams['figure.facecolor'] = '#00000000'"
   ]
  },
  {
   "cell_type": "code",
   "execution_count": 688,
   "id": "9cb0578e",
   "metadata": {},
   "outputs": [
    {
     "data": {
      "text/html": [
       "<div>\n",
       "<style scoped>\n",
       "    .dataframe tbody tr th:only-of-type {\n",
       "        vertical-align: middle;\n",
       "    }\n",
       "\n",
       "    .dataframe tbody tr th {\n",
       "        vertical-align: top;\n",
       "    }\n",
       "\n",
       "    .dataframe thead th {\n",
       "        text-align: right;\n",
       "    }\n",
       "</style>\n",
       "<table border=\"1\" class=\"dataframe\">\n",
       "  <thead>\n",
       "    <tr style=\"text-align: right;\">\n",
       "      <th></th>\n",
       "      <th>Movie</th>\n",
       "      <th>LeadStudio</th>\n",
       "      <th>RottenTomatoes</th>\n",
       "      <th>AudienceScore</th>\n",
       "      <th>Story</th>\n",
       "      <th>Genre</th>\n",
       "      <th>TheatersOpenWeek</th>\n",
       "      <th>OpeningWeekend</th>\n",
       "      <th>BOAvgOpenWeekend</th>\n",
       "      <th>DomesticGross</th>\n",
       "      <th>ForeignGross</th>\n",
       "      <th>WorldGross</th>\n",
       "      <th>Budget</th>\n",
       "      <th>Profitability</th>\n",
       "      <th>OpenProfit</th>\n",
       "      <th>Year</th>\n",
       "    </tr>\n",
       "  </thead>\n",
       "  <tbody>\n",
       "    <tr>\n",
       "      <th>0</th>\n",
       "      <td>Spider-Man 3</td>\n",
       "      <td>Sony</td>\n",
       "      <td>61.0</td>\n",
       "      <td>54.0</td>\n",
       "      <td>Metamorphosis</td>\n",
       "      <td>Action</td>\n",
       "      <td>4252.0</td>\n",
       "      <td>151.10</td>\n",
       "      <td>35540.0</td>\n",
       "      <td>336.53</td>\n",
       "      <td>554.34</td>\n",
       "      <td>890.87</td>\n",
       "      <td>258.0</td>\n",
       "      <td>345.30</td>\n",
       "      <td>58.57</td>\n",
       "      <td>2007</td>\n",
       "    </tr>\n",
       "    <tr>\n",
       "      <th>1</th>\n",
       "      <td>Shrek the Third</td>\n",
       "      <td>Paramount</td>\n",
       "      <td>42.0</td>\n",
       "      <td>57.0</td>\n",
       "      <td>Quest</td>\n",
       "      <td>Animation</td>\n",
       "      <td>4122.0</td>\n",
       "      <td>121.60</td>\n",
       "      <td>29507.0</td>\n",
       "      <td>322.72</td>\n",
       "      <td>476.24</td>\n",
       "      <td>798.96</td>\n",
       "      <td>160.0</td>\n",
       "      <td>499.35</td>\n",
       "      <td>76.00</td>\n",
       "      <td>2007</td>\n",
       "    </tr>\n",
       "    <tr>\n",
       "      <th>2</th>\n",
       "      <td>Transformers</td>\n",
       "      <td>Paramount</td>\n",
       "      <td>57.0</td>\n",
       "      <td>89.0</td>\n",
       "      <td>Monster Force</td>\n",
       "      <td>Action</td>\n",
       "      <td>4011.0</td>\n",
       "      <td>70.50</td>\n",
       "      <td>17577.0</td>\n",
       "      <td>319.25</td>\n",
       "      <td>390.46</td>\n",
       "      <td>709.71</td>\n",
       "      <td>150.0</td>\n",
       "      <td>473.14</td>\n",
       "      <td>47.00</td>\n",
       "      <td>2007</td>\n",
       "    </tr>\n",
       "    <tr>\n",
       "      <th>3</th>\n",
       "      <td>Pirates of the Caribbean: At World's End</td>\n",
       "      <td>Disney</td>\n",
       "      <td>45.0</td>\n",
       "      <td>74.0</td>\n",
       "      <td>Rescue</td>\n",
       "      <td>Action</td>\n",
       "      <td>4362.0</td>\n",
       "      <td>114.70</td>\n",
       "      <td>26302.0</td>\n",
       "      <td>309.42</td>\n",
       "      <td>654.00</td>\n",
       "      <td>963.42</td>\n",
       "      <td>300.0</td>\n",
       "      <td>321.14</td>\n",
       "      <td>38.23</td>\n",
       "      <td>2007</td>\n",
       "    </tr>\n",
       "    <tr>\n",
       "      <th>4</th>\n",
       "      <td>Harry Potter and the Order of the Phoenix</td>\n",
       "      <td>Warner Bros</td>\n",
       "      <td>78.0</td>\n",
       "      <td>82.0</td>\n",
       "      <td>Quest</td>\n",
       "      <td>Adventure</td>\n",
       "      <td>4285.0</td>\n",
       "      <td>77.10</td>\n",
       "      <td>17998.0</td>\n",
       "      <td>292.00</td>\n",
       "      <td>647.88</td>\n",
       "      <td>939.89</td>\n",
       "      <td>150.0</td>\n",
       "      <td>626.59</td>\n",
       "      <td>51.40</td>\n",
       "      <td>2007</td>\n",
       "    </tr>\n",
       "    <tr>\n",
       "      <th>...</th>\n",
       "      <td>...</td>\n",
       "      <td>...</td>\n",
       "      <td>...</td>\n",
       "      <td>...</td>\n",
       "      <td>...</td>\n",
       "      <td>...</td>\n",
       "      <td>...</td>\n",
       "      <td>...</td>\n",
       "      <td>...</td>\n",
       "      <td>...</td>\n",
       "      <td>...</td>\n",
       "      <td>...</td>\n",
       "      <td>...</td>\n",
       "      <td>...</td>\n",
       "      <td>...</td>\n",
       "      <td>...</td>\n",
       "    </tr>\n",
       "    <tr>\n",
       "      <th>965</th>\n",
       "      <td>The Canyons</td>\n",
       "      <td>IFC</td>\n",
       "      <td>22.0</td>\n",
       "      <td>NaN</td>\n",
       "      <td>NaN</td>\n",
       "      <td>NaN</td>\n",
       "      <td>1.0</td>\n",
       "      <td>0.01</td>\n",
       "      <td>13351.0</td>\n",
       "      <td>0.06</td>\n",
       "      <td>0.14</td>\n",
       "      <td>0.19</td>\n",
       "      <td>NaN</td>\n",
       "      <td>77.21</td>\n",
       "      <td>NaN</td>\n",
       "      <td>2013</td>\n",
       "    </tr>\n",
       "    <tr>\n",
       "      <th>966</th>\n",
       "      <td>The Call</td>\n",
       "      <td>TriStar</td>\n",
       "      <td>43.0</td>\n",
       "      <td>66.0</td>\n",
       "      <td>NaN</td>\n",
       "      <td>NaN</td>\n",
       "      <td>2507.0</td>\n",
       "      <td>17.12</td>\n",
       "      <td>6828.0</td>\n",
       "      <td>51.87</td>\n",
       "      <td>16.70</td>\n",
       "      <td>68.57</td>\n",
       "      <td>13.0</td>\n",
       "      <td>527.48</td>\n",
       "      <td>131.69</td>\n",
       "      <td>2013</td>\n",
       "    </tr>\n",
       "    <tr>\n",
       "      <th>967</th>\n",
       "      <td>The English Teacher</td>\n",
       "      <td>Cinedigm Entertainment</td>\n",
       "      <td>42.0</td>\n",
       "      <td>NaN</td>\n",
       "      <td>NaN</td>\n",
       "      <td>NaN</td>\n",
       "      <td>2.0</td>\n",
       "      <td>0.01</td>\n",
       "      <td>3001.0</td>\n",
       "      <td>0.10</td>\n",
       "      <td>0.06</td>\n",
       "      <td>0.10</td>\n",
       "      <td>NaN</td>\n",
       "      <td>NaN</td>\n",
       "      <td>NaN</td>\n",
       "      <td>2013</td>\n",
       "    </tr>\n",
       "    <tr>\n",
       "      <th>968</th>\n",
       "      <td>John Dies at the End</td>\n",
       "      <td>Magnolia</td>\n",
       "      <td>61.0</td>\n",
       "      <td>53.0</td>\n",
       "      <td>NaN</td>\n",
       "      <td>NaN</td>\n",
       "      <td>1.0</td>\n",
       "      <td>0.01</td>\n",
       "      <td>12467.0</td>\n",
       "      <td>0.14</td>\n",
       "      <td>NaN</td>\n",
       "      <td>0.14</td>\n",
       "      <td>1.0</td>\n",
       "      <td>14.20</td>\n",
       "      <td>1.00</td>\n",
       "      <td>2013</td>\n",
       "    </tr>\n",
       "    <tr>\n",
       "      <th>969</th>\n",
       "      <td>Lovelace</td>\n",
       "      <td>Radius-TWC</td>\n",
       "      <td>55.0</td>\n",
       "      <td>37.0</td>\n",
       "      <td>NaN</td>\n",
       "      <td>Biography</td>\n",
       "      <td>118.0</td>\n",
       "      <td>0.18</td>\n",
       "      <td>1564.0</td>\n",
       "      <td>0.36</td>\n",
       "      <td>1.17</td>\n",
       "      <td>1.52</td>\n",
       "      <td>10.0</td>\n",
       "      <td>15.25</td>\n",
       "      <td>1.80</td>\n",
       "      <td>2013</td>\n",
       "    </tr>\n",
       "  </tbody>\n",
       "</table>\n",
       "<p>970 rows × 16 columns</p>\n",
       "</div>"
      ],
      "text/plain": [
       "                                         Movie              LeadStudio  \\\n",
       "0                                 Spider-Man 3                    Sony   \n",
       "1                              Shrek the Third               Paramount   \n",
       "2                                 Transformers               Paramount   \n",
       "3     Pirates of the Caribbean: At World's End                  Disney   \n",
       "4    Harry Potter and the Order of the Phoenix             Warner Bros   \n",
       "..                                         ...                     ...   \n",
       "965                                The Canyons                     IFC   \n",
       "966                                   The Call                 TriStar   \n",
       "967                        The English Teacher  Cinedigm Entertainment   \n",
       "968                       John Dies at the End                Magnolia   \n",
       "969                                   Lovelace              Radius-TWC   \n",
       "\n",
       "     RottenTomatoes  AudienceScore          Story      Genre  \\\n",
       "0              61.0           54.0  Metamorphosis     Action   \n",
       "1              42.0           57.0          Quest  Animation   \n",
       "2              57.0           89.0  Monster Force     Action   \n",
       "3              45.0           74.0         Rescue     Action   \n",
       "4              78.0           82.0          Quest  Adventure   \n",
       "..              ...            ...            ...        ...   \n",
       "965            22.0            NaN            NaN        NaN   \n",
       "966            43.0           66.0            NaN        NaN   \n",
       "967            42.0            NaN            NaN        NaN   \n",
       "968            61.0           53.0            NaN        NaN   \n",
       "969            55.0           37.0            NaN  Biography   \n",
       "\n",
       "     TheatersOpenWeek  OpeningWeekend  BOAvgOpenWeekend  DomesticGross  \\\n",
       "0              4252.0          151.10           35540.0         336.53   \n",
       "1              4122.0          121.60           29507.0         322.72   \n",
       "2              4011.0           70.50           17577.0         319.25   \n",
       "3              4362.0          114.70           26302.0         309.42   \n",
       "4              4285.0           77.10           17998.0         292.00   \n",
       "..                ...             ...               ...            ...   \n",
       "965               1.0            0.01           13351.0           0.06   \n",
       "966            2507.0           17.12            6828.0          51.87   \n",
       "967               2.0            0.01            3001.0           0.10   \n",
       "968               1.0            0.01           12467.0           0.14   \n",
       "969             118.0            0.18            1564.0           0.36   \n",
       "\n",
       "     ForeignGross  WorldGross  Budget  Profitability  OpenProfit  Year  \n",
       "0          554.34      890.87   258.0         345.30       58.57  2007  \n",
       "1          476.24      798.96   160.0         499.35       76.00  2007  \n",
       "2          390.46      709.71   150.0         473.14       47.00  2007  \n",
       "3          654.00      963.42   300.0         321.14       38.23  2007  \n",
       "4          647.88      939.89   150.0         626.59       51.40  2007  \n",
       "..            ...         ...     ...            ...         ...   ...  \n",
       "965          0.14        0.19     NaN          77.21         NaN  2013  \n",
       "966         16.70       68.57    13.0         527.48      131.69  2013  \n",
       "967          0.06        0.10     NaN            NaN         NaN  2013  \n",
       "968           NaN        0.14     1.0          14.20        1.00  2013  \n",
       "969          1.17        1.52    10.0          15.25        1.80  2013  \n",
       "\n",
       "[970 rows x 16 columns]"
      ]
     },
     "execution_count": 688,
     "metadata": {},
     "output_type": "execute_result"
    }
   ],
   "source": [
    "data = pd.read_csv('https://raw.githubusercontent.com/reisanar/datasets/master/HollywoodMovies.csv')\n",
    "data"
   ]
  },
  {
   "cell_type": "code",
   "execution_count": 689,
   "id": "1c74d865",
   "metadata": {},
   "outputs": [
    {
     "data": {
      "text/plain": [
       "(970, 16)"
      ]
     },
     "execution_count": 689,
     "metadata": {},
     "output_type": "execute_result"
    }
   ],
   "source": [
    "data.shape"
   ]
  },
  {
   "cell_type": "code",
   "execution_count": 690,
   "id": "979d704c",
   "metadata": {},
   "outputs": [
    {
     "data": {
      "text/plain": [
       "pandas.core.frame.DataFrame"
      ]
     },
     "execution_count": 690,
     "metadata": {},
     "output_type": "execute_result"
    }
   ],
   "source": [
    "type(data)"
   ]
  },
  {
   "cell_type": "code",
   "execution_count": 691,
   "id": "3d51aee2",
   "metadata": {},
   "outputs": [
    {
     "data": {
      "text/plain": [
       "Index(['Movie', 'LeadStudio', 'RottenTomatoes', 'AudienceScore', 'Story',\n",
       "       'Genre', 'TheatersOpenWeek', 'OpeningWeekend', 'BOAvgOpenWeekend',\n",
       "       'DomesticGross', 'ForeignGross', 'WorldGross', 'Budget',\n",
       "       'Profitability', 'OpenProfit', 'Year'],\n",
       "      dtype='object')"
      ]
     },
     "execution_count": 691,
     "metadata": {},
     "output_type": "execute_result"
    }
   ],
   "source": [
    "data.columns"
   ]
  },
  {
   "cell_type": "code",
   "execution_count": 692,
   "id": "9c82fdd1",
   "metadata": {},
   "outputs": [
    {
     "name": "stdout",
     "output_type": "stream",
     "text": [
      "<class 'pandas.core.frame.DataFrame'>\n",
      "RangeIndex: 970 entries, 0 to 969\n",
      "Data columns (total 16 columns):\n",
      " #   Column            Non-Null Count  Dtype  \n",
      "---  ------            --------------  -----  \n",
      " 0   Movie             970 non-null    object \n",
      " 1   LeadStudio        961 non-null    object \n",
      " 2   RottenTomatoes    913 non-null    float64\n",
      " 3   AudienceScore     907 non-null    float64\n",
      " 4   Story             641 non-null    object \n",
      " 5   Genre             691 non-null    object \n",
      " 6   TheatersOpenWeek  949 non-null    float64\n",
      " 7   OpeningWeekend    969 non-null    float64\n",
      " 8   BOAvgOpenWeekend  945 non-null    float64\n",
      " 9   DomesticGross     970 non-null    float64\n",
      " 10  ForeignGross      876 non-null    float64\n",
      " 11  WorldGross        914 non-null    float64\n",
      " 12  Budget            897 non-null    float64\n",
      " 13  Profitability     896 non-null    float64\n",
      " 14  OpenProfit        895 non-null    float64\n",
      " 15  Year              970 non-null    int64  \n",
      "dtypes: float64(11), int64(1), object(4)\n",
      "memory usage: 121.4+ KB\n"
     ]
    }
   ],
   "source": [
    "data.info()"
   ]
  },
  {
   "cell_type": "markdown",
   "id": "da04fe89",
   "metadata": {},
   "source": [
    "## Data Cleaning\n",
    "\n",
    "Here from the Info we can see we have missing data in some of the columns, I decided to remove missing value for the genre in the process handle other column missing value.\n",
    "\n",
    "Now we'll make modifications to our dataset. First we'll remove extraneous data and then add and replace information to ensure our dataset is clean for analysis.\n",
    "\n",
    "- Drop columns that are not relevant to the analysis.\n",
    "- I'm most concerned with profitability and budget rather than those columns\n",
    "- Remove outliers using 3𝜎 rule\n",
    "- Add revenue column to calculate profitability ratio.\n",
    "- Replace Na value for genre and story to none because I don't want to lose the obesrvations to answer the questions above and fillna('') for numeric columns."
   ]
  },
  {
   "cell_type": "code",
   "execution_count": 693,
   "id": "185347f8",
   "metadata": {},
   "outputs": [
    {
     "data": {
      "text/html": [
       "<div>\n",
       "<style scoped>\n",
       "    .dataframe tbody tr th:only-of-type {\n",
       "        vertical-align: middle;\n",
       "    }\n",
       "\n",
       "    .dataframe tbody tr th {\n",
       "        vertical-align: top;\n",
       "    }\n",
       "\n",
       "    .dataframe thead th {\n",
       "        text-align: right;\n",
       "    }\n",
       "</style>\n",
       "<table border=\"1\" class=\"dataframe\">\n",
       "  <thead>\n",
       "    <tr style=\"text-align: right;\">\n",
       "      <th></th>\n",
       "      <th>Movie</th>\n",
       "      <th>LeadStudio</th>\n",
       "      <th>RottenTomatoes</th>\n",
       "      <th>AudienceScore</th>\n",
       "      <th>Story</th>\n",
       "      <th>Genre</th>\n",
       "      <th>DomesticGross</th>\n",
       "      <th>ForeignGross</th>\n",
       "      <th>WorldGross</th>\n",
       "      <th>Budget</th>\n",
       "      <th>Profitability</th>\n",
       "      <th>Year</th>\n",
       "    </tr>\n",
       "  </thead>\n",
       "  <tbody>\n",
       "    <tr>\n",
       "      <th>0</th>\n",
       "      <td>Spider-Man 3</td>\n",
       "      <td>Sony</td>\n",
       "      <td>61.0</td>\n",
       "      <td>54.0</td>\n",
       "      <td>Metamorphosis</td>\n",
       "      <td>Action</td>\n",
       "      <td>336.53</td>\n",
       "      <td>554.34</td>\n",
       "      <td>890.87</td>\n",
       "      <td>258.0</td>\n",
       "      <td>345.30</td>\n",
       "      <td>2007</td>\n",
       "    </tr>\n",
       "    <tr>\n",
       "      <th>1</th>\n",
       "      <td>Shrek the Third</td>\n",
       "      <td>Paramount</td>\n",
       "      <td>42.0</td>\n",
       "      <td>57.0</td>\n",
       "      <td>Quest</td>\n",
       "      <td>Animation</td>\n",
       "      <td>322.72</td>\n",
       "      <td>476.24</td>\n",
       "      <td>798.96</td>\n",
       "      <td>160.0</td>\n",
       "      <td>499.35</td>\n",
       "      <td>2007</td>\n",
       "    </tr>\n",
       "    <tr>\n",
       "      <th>2</th>\n",
       "      <td>Transformers</td>\n",
       "      <td>Paramount</td>\n",
       "      <td>57.0</td>\n",
       "      <td>89.0</td>\n",
       "      <td>Monster Force</td>\n",
       "      <td>Action</td>\n",
       "      <td>319.25</td>\n",
       "      <td>390.46</td>\n",
       "      <td>709.71</td>\n",
       "      <td>150.0</td>\n",
       "      <td>473.14</td>\n",
       "      <td>2007</td>\n",
       "    </tr>\n",
       "    <tr>\n",
       "      <th>3</th>\n",
       "      <td>Pirates of the Caribbean: At World's End</td>\n",
       "      <td>Disney</td>\n",
       "      <td>45.0</td>\n",
       "      <td>74.0</td>\n",
       "      <td>Rescue</td>\n",
       "      <td>Action</td>\n",
       "      <td>309.42</td>\n",
       "      <td>654.00</td>\n",
       "      <td>963.42</td>\n",
       "      <td>300.0</td>\n",
       "      <td>321.14</td>\n",
       "      <td>2007</td>\n",
       "    </tr>\n",
       "    <tr>\n",
       "      <th>4</th>\n",
       "      <td>Harry Potter and the Order of the Phoenix</td>\n",
       "      <td>Warner Bros</td>\n",
       "      <td>78.0</td>\n",
       "      <td>82.0</td>\n",
       "      <td>Quest</td>\n",
       "      <td>Adventure</td>\n",
       "      <td>292.00</td>\n",
       "      <td>647.88</td>\n",
       "      <td>939.89</td>\n",
       "      <td>150.0</td>\n",
       "      <td>626.59</td>\n",
       "      <td>2007</td>\n",
       "    </tr>\n",
       "  </tbody>\n",
       "</table>\n",
       "</div>"
      ],
      "text/plain": [
       "                                       Movie   LeadStudio  RottenTomatoes  \\\n",
       "0                               Spider-Man 3         Sony            61.0   \n",
       "1                            Shrek the Third    Paramount            42.0   \n",
       "2                               Transformers    Paramount            57.0   \n",
       "3   Pirates of the Caribbean: At World's End       Disney            45.0   \n",
       "4  Harry Potter and the Order of the Phoenix  Warner Bros            78.0   \n",
       "\n",
       "   AudienceScore          Story      Genre  DomesticGross  ForeignGross  \\\n",
       "0           54.0  Metamorphosis     Action         336.53        554.34   \n",
       "1           57.0          Quest  Animation         322.72        476.24   \n",
       "2           89.0  Monster Force     Action         319.25        390.46   \n",
       "3           74.0         Rescue     Action         309.42        654.00   \n",
       "4           82.0          Quest  Adventure         292.00        647.88   \n",
       "\n",
       "   WorldGross  Budget  Profitability  Year  \n",
       "0      890.87   258.0         345.30  2007  \n",
       "1      798.96   160.0         499.35  2007  \n",
       "2      709.71   150.0         473.14  2007  \n",
       "3      963.42   300.0         321.14  2007  \n",
       "4      939.89   150.0         626.59  2007  "
      ]
     },
     "execution_count": 693,
     "metadata": {},
     "output_type": "execute_result"
    }
   ],
   "source": [
    "data.drop(['TheatersOpenWeek', 'OpenProfit', 'BOAvgOpenWeekend','OpeningWeekend'], axis=1, inplace=True)\n",
    "data.head()"
   ]
  },
  {
   "cell_type": "code",
   "execution_count": 694,
   "id": "56d9feed",
   "metadata": {},
   "outputs": [],
   "source": [
    "data.dropna(subset=['Profitability'], inplace= True)\n",
    "data.dropna(subset=['Budget'], inplace= True)"
   ]
  },
  {
   "cell_type": "code",
   "execution_count": 695,
   "id": "8369d0f8",
   "metadata": {},
   "outputs": [],
   "source": [
    "data['Genre'] = data['Genre'].fillna('none')\n",
    "data['Story'] = data['Story'].fillna('none')\n",
    "data['LeadStudio'] = data['LeadStudio'].fillna('none')\n",
    "data['RottenTomatoes'] = data['RottenTomatoes'].fillna(0)\n",
    "data['AudienceScore'] = data['AudienceScore'].fillna(0)\n",
    "data['DomesticGross'] = data['DomesticGross'].fillna(0)\n",
    "data['ForeignGross'] = data['ForeignGross'].fillna(0)\n",
    "data['WorldGross'] = data['WorldGross'].fillna(0)"
   ]
  },
  {
   "cell_type": "code",
   "execution_count": 696,
   "id": "d22ca518",
   "metadata": {},
   "outputs": [
    {
     "name": "stdout",
     "output_type": "stream",
     "text": [
      "<class 'pandas.core.frame.DataFrame'>\n",
      "Int64Index: 894 entries, 0 to 969\n",
      "Data columns (total 12 columns):\n",
      " #   Column          Non-Null Count  Dtype  \n",
      "---  ------          --------------  -----  \n",
      " 0   Movie           894 non-null    object \n",
      " 1   LeadStudio      894 non-null    object \n",
      " 2   RottenTomatoes  894 non-null    float64\n",
      " 3   AudienceScore   894 non-null    float64\n",
      " 4   Story           894 non-null    object \n",
      " 5   Genre           894 non-null    object \n",
      " 6   DomesticGross   894 non-null    float64\n",
      " 7   ForeignGross    894 non-null    float64\n",
      " 8   WorldGross      894 non-null    float64\n",
      " 9   Budget          894 non-null    float64\n",
      " 10  Profitability   894 non-null    float64\n",
      " 11  Year            894 non-null    int64  \n",
      "dtypes: float64(7), int64(1), object(4)\n",
      "memory usage: 90.8+ KB\n"
     ]
    }
   ],
   "source": [
    "data.info()"
   ]
  },
  {
   "cell_type": "markdown",
   "id": "1833156e",
   "metadata": {},
   "source": [
    "I'd like to add a revenue column so we can create a profitability ratio.\n",
    "\n",
    "Revenue (aka income) = Profit + budget (aka cost or expense)"
   ]
  },
  {
   "cell_type": "code",
   "execution_count": 697,
   "id": "511b34f2",
   "metadata": {},
   "outputs": [
    {
     "data": {
      "text/html": [
       "<div>\n",
       "<style scoped>\n",
       "    .dataframe tbody tr th:only-of-type {\n",
       "        vertical-align: middle;\n",
       "    }\n",
       "\n",
       "    .dataframe tbody tr th {\n",
       "        vertical-align: top;\n",
       "    }\n",
       "\n",
       "    .dataframe thead th {\n",
       "        text-align: right;\n",
       "    }\n",
       "</style>\n",
       "<table border=\"1\" class=\"dataframe\">\n",
       "  <thead>\n",
       "    <tr style=\"text-align: right;\">\n",
       "      <th></th>\n",
       "      <th>Movie</th>\n",
       "      <th>LeadStudio</th>\n",
       "      <th>RottenTomatoes</th>\n",
       "      <th>AudienceScore</th>\n",
       "      <th>Story</th>\n",
       "      <th>Genre</th>\n",
       "      <th>DomesticGross</th>\n",
       "      <th>ForeignGross</th>\n",
       "      <th>WorldGross</th>\n",
       "      <th>Budget</th>\n",
       "      <th>Profitability</th>\n",
       "      <th>Year</th>\n",
       "      <th>revenue</th>\n",
       "    </tr>\n",
       "  </thead>\n",
       "  <tbody>\n",
       "    <tr>\n",
       "      <th>0</th>\n",
       "      <td>Spider-Man 3</td>\n",
       "      <td>Sony</td>\n",
       "      <td>61.0</td>\n",
       "      <td>54.0</td>\n",
       "      <td>Metamorphosis</td>\n",
       "      <td>Action</td>\n",
       "      <td>336.53</td>\n",
       "      <td>554.34</td>\n",
       "      <td>890.87</td>\n",
       "      <td>258.0</td>\n",
       "      <td>345.30</td>\n",
       "      <td>2007</td>\n",
       "      <td>603.30</td>\n",
       "    </tr>\n",
       "    <tr>\n",
       "      <th>1</th>\n",
       "      <td>Shrek the Third</td>\n",
       "      <td>Paramount</td>\n",
       "      <td>42.0</td>\n",
       "      <td>57.0</td>\n",
       "      <td>Quest</td>\n",
       "      <td>Animation</td>\n",
       "      <td>322.72</td>\n",
       "      <td>476.24</td>\n",
       "      <td>798.96</td>\n",
       "      <td>160.0</td>\n",
       "      <td>499.35</td>\n",
       "      <td>2007</td>\n",
       "      <td>659.35</td>\n",
       "    </tr>\n",
       "    <tr>\n",
       "      <th>2</th>\n",
       "      <td>Transformers</td>\n",
       "      <td>Paramount</td>\n",
       "      <td>57.0</td>\n",
       "      <td>89.0</td>\n",
       "      <td>Monster Force</td>\n",
       "      <td>Action</td>\n",
       "      <td>319.25</td>\n",
       "      <td>390.46</td>\n",
       "      <td>709.71</td>\n",
       "      <td>150.0</td>\n",
       "      <td>473.14</td>\n",
       "      <td>2007</td>\n",
       "      <td>623.14</td>\n",
       "    </tr>\n",
       "    <tr>\n",
       "      <th>3</th>\n",
       "      <td>Pirates of the Caribbean: At World's End</td>\n",
       "      <td>Disney</td>\n",
       "      <td>45.0</td>\n",
       "      <td>74.0</td>\n",
       "      <td>Rescue</td>\n",
       "      <td>Action</td>\n",
       "      <td>309.42</td>\n",
       "      <td>654.00</td>\n",
       "      <td>963.42</td>\n",
       "      <td>300.0</td>\n",
       "      <td>321.14</td>\n",
       "      <td>2007</td>\n",
       "      <td>621.14</td>\n",
       "    </tr>\n",
       "    <tr>\n",
       "      <th>4</th>\n",
       "      <td>Harry Potter and the Order of the Phoenix</td>\n",
       "      <td>Warner Bros</td>\n",
       "      <td>78.0</td>\n",
       "      <td>82.0</td>\n",
       "      <td>Quest</td>\n",
       "      <td>Adventure</td>\n",
       "      <td>292.00</td>\n",
       "      <td>647.88</td>\n",
       "      <td>939.89</td>\n",
       "      <td>150.0</td>\n",
       "      <td>626.59</td>\n",
       "      <td>2007</td>\n",
       "      <td>776.59</td>\n",
       "    </tr>\n",
       "  </tbody>\n",
       "</table>\n",
       "</div>"
      ],
      "text/plain": [
       "                                       Movie   LeadStudio  RottenTomatoes  \\\n",
       "0                               Spider-Man 3         Sony            61.0   \n",
       "1                            Shrek the Third    Paramount            42.0   \n",
       "2                               Transformers    Paramount            57.0   \n",
       "3   Pirates of the Caribbean: At World's End       Disney            45.0   \n",
       "4  Harry Potter and the Order of the Phoenix  Warner Bros            78.0   \n",
       "\n",
       "   AudienceScore          Story      Genre  DomesticGross  ForeignGross  \\\n",
       "0           54.0  Metamorphosis     Action         336.53        554.34   \n",
       "1           57.0          Quest  Animation         322.72        476.24   \n",
       "2           89.0  Monster Force     Action         319.25        390.46   \n",
       "3           74.0         Rescue     Action         309.42        654.00   \n",
       "4           82.0          Quest  Adventure         292.00        647.88   \n",
       "\n",
       "   WorldGross  Budget  Profitability  Year  revenue  \n",
       "0      890.87   258.0         345.30  2007   603.30  \n",
       "1      798.96   160.0         499.35  2007   659.35  \n",
       "2      709.71   150.0         473.14  2007   623.14  \n",
       "3      963.42   300.0         321.14  2007   621.14  \n",
       "4      939.89   150.0         626.59  2007   776.59  "
      ]
     },
     "execution_count": 697,
     "metadata": {},
     "output_type": "execute_result"
    }
   ],
   "source": [
    "data['revenue'] = data['Profitability'] + data['Budget']\n",
    "data.head()"
   ]
  },
  {
   "cell_type": "markdown",
   "id": "0d2d128e",
   "metadata": {},
   "source": [
    "Now that we have revenue column, we can create a profitability ratio column.\n",
    "\n",
    "Profitability ratio = (Profitability/revenue) x 100 = percentage"
   ]
  },
  {
   "cell_type": "code",
   "execution_count": 698,
   "id": "2531784d",
   "metadata": {},
   "outputs": [
    {
     "data": {
      "text/html": [
       "<div>\n",
       "<style scoped>\n",
       "    .dataframe tbody tr th:only-of-type {\n",
       "        vertical-align: middle;\n",
       "    }\n",
       "\n",
       "    .dataframe tbody tr th {\n",
       "        vertical-align: top;\n",
       "    }\n",
       "\n",
       "    .dataframe thead th {\n",
       "        text-align: right;\n",
       "    }\n",
       "</style>\n",
       "<table border=\"1\" class=\"dataframe\">\n",
       "  <thead>\n",
       "    <tr style=\"text-align: right;\">\n",
       "      <th></th>\n",
       "      <th>Movie</th>\n",
       "      <th>LeadStudio</th>\n",
       "      <th>RottenTomatoes</th>\n",
       "      <th>AudienceScore</th>\n",
       "      <th>Story</th>\n",
       "      <th>Genre</th>\n",
       "      <th>DomesticGross</th>\n",
       "      <th>ForeignGross</th>\n",
       "      <th>WorldGross</th>\n",
       "      <th>Budget</th>\n",
       "      <th>Profitability</th>\n",
       "      <th>Year</th>\n",
       "      <th>revenue</th>\n",
       "      <th>profitability_ratio</th>\n",
       "    </tr>\n",
       "  </thead>\n",
       "  <tbody>\n",
       "    <tr>\n",
       "      <th>0</th>\n",
       "      <td>Spider-Man 3</td>\n",
       "      <td>Sony</td>\n",
       "      <td>61.0</td>\n",
       "      <td>54.0</td>\n",
       "      <td>Metamorphosis</td>\n",
       "      <td>Action</td>\n",
       "      <td>336.53</td>\n",
       "      <td>554.34</td>\n",
       "      <td>890.87</td>\n",
       "      <td>258.0</td>\n",
       "      <td>345.30</td>\n",
       "      <td>2007</td>\n",
       "      <td>603.30</td>\n",
       "      <td>57</td>\n",
       "    </tr>\n",
       "    <tr>\n",
       "      <th>1</th>\n",
       "      <td>Shrek the Third</td>\n",
       "      <td>Paramount</td>\n",
       "      <td>42.0</td>\n",
       "      <td>57.0</td>\n",
       "      <td>Quest</td>\n",
       "      <td>Animation</td>\n",
       "      <td>322.72</td>\n",
       "      <td>476.24</td>\n",
       "      <td>798.96</td>\n",
       "      <td>160.0</td>\n",
       "      <td>499.35</td>\n",
       "      <td>2007</td>\n",
       "      <td>659.35</td>\n",
       "      <td>75</td>\n",
       "    </tr>\n",
       "    <tr>\n",
       "      <th>2</th>\n",
       "      <td>Transformers</td>\n",
       "      <td>Paramount</td>\n",
       "      <td>57.0</td>\n",
       "      <td>89.0</td>\n",
       "      <td>Monster Force</td>\n",
       "      <td>Action</td>\n",
       "      <td>319.25</td>\n",
       "      <td>390.46</td>\n",
       "      <td>709.71</td>\n",
       "      <td>150.0</td>\n",
       "      <td>473.14</td>\n",
       "      <td>2007</td>\n",
       "      <td>623.14</td>\n",
       "      <td>75</td>\n",
       "    </tr>\n",
       "    <tr>\n",
       "      <th>3</th>\n",
       "      <td>Pirates of the Caribbean: At World's End</td>\n",
       "      <td>Disney</td>\n",
       "      <td>45.0</td>\n",
       "      <td>74.0</td>\n",
       "      <td>Rescue</td>\n",
       "      <td>Action</td>\n",
       "      <td>309.42</td>\n",
       "      <td>654.00</td>\n",
       "      <td>963.42</td>\n",
       "      <td>300.0</td>\n",
       "      <td>321.14</td>\n",
       "      <td>2007</td>\n",
       "      <td>621.14</td>\n",
       "      <td>51</td>\n",
       "    </tr>\n",
       "    <tr>\n",
       "      <th>4</th>\n",
       "      <td>Harry Potter and the Order of the Phoenix</td>\n",
       "      <td>Warner Bros</td>\n",
       "      <td>78.0</td>\n",
       "      <td>82.0</td>\n",
       "      <td>Quest</td>\n",
       "      <td>Adventure</td>\n",
       "      <td>292.00</td>\n",
       "      <td>647.88</td>\n",
       "      <td>939.89</td>\n",
       "      <td>150.0</td>\n",
       "      <td>626.59</td>\n",
       "      <td>2007</td>\n",
       "      <td>776.59</td>\n",
       "      <td>80</td>\n",
       "    </tr>\n",
       "    <tr>\n",
       "      <th>...</th>\n",
       "      <td>...</td>\n",
       "      <td>...</td>\n",
       "      <td>...</td>\n",
       "      <td>...</td>\n",
       "      <td>...</td>\n",
       "      <td>...</td>\n",
       "      <td>...</td>\n",
       "      <td>...</td>\n",
       "      <td>...</td>\n",
       "      <td>...</td>\n",
       "      <td>...</td>\n",
       "      <td>...</td>\n",
       "      <td>...</td>\n",
       "      <td>...</td>\n",
       "    </tr>\n",
       "    <tr>\n",
       "      <th>961</th>\n",
       "      <td>Girl Most Likely</td>\n",
       "      <td>Roadside Attractions</td>\n",
       "      <td>20.0</td>\n",
       "      <td>35.0</td>\n",
       "      <td>none</td>\n",
       "      <td>none</td>\n",
       "      <td>1.38</td>\n",
       "      <td>0.00</td>\n",
       "      <td>1.38</td>\n",
       "      <td>60.0</td>\n",
       "      <td>2.30</td>\n",
       "      <td>2013</td>\n",
       "      <td>62.30</td>\n",
       "      <td>3</td>\n",
       "    </tr>\n",
       "    <tr>\n",
       "      <th>964</th>\n",
       "      <td>The Butler</td>\n",
       "      <td>Weinstein</td>\n",
       "      <td>73.0</td>\n",
       "      <td>79.0</td>\n",
       "      <td>none</td>\n",
       "      <td>none</td>\n",
       "      <td>116.63</td>\n",
       "      <td>51.11</td>\n",
       "      <td>167.74</td>\n",
       "      <td>30.0</td>\n",
       "      <td>559.14</td>\n",
       "      <td>2013</td>\n",
       "      <td>589.14</td>\n",
       "      <td>94</td>\n",
       "    </tr>\n",
       "    <tr>\n",
       "      <th>966</th>\n",
       "      <td>The Call</td>\n",
       "      <td>TriStar</td>\n",
       "      <td>43.0</td>\n",
       "      <td>66.0</td>\n",
       "      <td>none</td>\n",
       "      <td>none</td>\n",
       "      <td>51.87</td>\n",
       "      <td>16.70</td>\n",
       "      <td>68.57</td>\n",
       "      <td>13.0</td>\n",
       "      <td>527.48</td>\n",
       "      <td>2013</td>\n",
       "      <td>540.48</td>\n",
       "      <td>97</td>\n",
       "    </tr>\n",
       "    <tr>\n",
       "      <th>968</th>\n",
       "      <td>John Dies at the End</td>\n",
       "      <td>Magnolia</td>\n",
       "      <td>61.0</td>\n",
       "      <td>53.0</td>\n",
       "      <td>none</td>\n",
       "      <td>none</td>\n",
       "      <td>0.14</td>\n",
       "      <td>0.00</td>\n",
       "      <td>0.14</td>\n",
       "      <td>1.0</td>\n",
       "      <td>14.20</td>\n",
       "      <td>2013</td>\n",
       "      <td>15.20</td>\n",
       "      <td>93</td>\n",
       "    </tr>\n",
       "    <tr>\n",
       "      <th>969</th>\n",
       "      <td>Lovelace</td>\n",
       "      <td>Radius-TWC</td>\n",
       "      <td>55.0</td>\n",
       "      <td>37.0</td>\n",
       "      <td>none</td>\n",
       "      <td>Biography</td>\n",
       "      <td>0.36</td>\n",
       "      <td>1.17</td>\n",
       "      <td>1.52</td>\n",
       "      <td>10.0</td>\n",
       "      <td>15.25</td>\n",
       "      <td>2013</td>\n",
       "      <td>25.25</td>\n",
       "      <td>60</td>\n",
       "    </tr>\n",
       "  </tbody>\n",
       "</table>\n",
       "<p>894 rows × 14 columns</p>\n",
       "</div>"
      ],
      "text/plain": [
       "                                         Movie            LeadStudio  \\\n",
       "0                                 Spider-Man 3                  Sony   \n",
       "1                              Shrek the Third             Paramount   \n",
       "2                                 Transformers             Paramount   \n",
       "3     Pirates of the Caribbean: At World's End                Disney   \n",
       "4    Harry Potter and the Order of the Phoenix           Warner Bros   \n",
       "..                                         ...                   ...   \n",
       "961                           Girl Most Likely  Roadside Attractions   \n",
       "964                                 The Butler             Weinstein   \n",
       "966                                   The Call               TriStar   \n",
       "968                       John Dies at the End              Magnolia   \n",
       "969                                   Lovelace            Radius-TWC   \n",
       "\n",
       "     RottenTomatoes  AudienceScore          Story      Genre  DomesticGross  \\\n",
       "0              61.0           54.0  Metamorphosis     Action         336.53   \n",
       "1              42.0           57.0          Quest  Animation         322.72   \n",
       "2              57.0           89.0  Monster Force     Action         319.25   \n",
       "3              45.0           74.0         Rescue     Action         309.42   \n",
       "4              78.0           82.0          Quest  Adventure         292.00   \n",
       "..              ...            ...            ...        ...            ...   \n",
       "961            20.0           35.0           none       none           1.38   \n",
       "964            73.0           79.0           none       none         116.63   \n",
       "966            43.0           66.0           none       none          51.87   \n",
       "968            61.0           53.0           none       none           0.14   \n",
       "969            55.0           37.0           none  Biography           0.36   \n",
       "\n",
       "     ForeignGross  WorldGross  Budget  Profitability  Year  revenue  \\\n",
       "0          554.34      890.87   258.0         345.30  2007   603.30   \n",
       "1          476.24      798.96   160.0         499.35  2007   659.35   \n",
       "2          390.46      709.71   150.0         473.14  2007   623.14   \n",
       "3          654.00      963.42   300.0         321.14  2007   621.14   \n",
       "4          647.88      939.89   150.0         626.59  2007   776.59   \n",
       "..            ...         ...     ...            ...   ...      ...   \n",
       "961          0.00        1.38    60.0           2.30  2013    62.30   \n",
       "964         51.11      167.74    30.0         559.14  2013   589.14   \n",
       "966         16.70       68.57    13.0         527.48  2013   540.48   \n",
       "968          0.00        0.14     1.0          14.20  2013    15.20   \n",
       "969          1.17        1.52    10.0          15.25  2013    25.25   \n",
       "\n",
       "     profitability_ratio  \n",
       "0                     57  \n",
       "1                     75  \n",
       "2                     75  \n",
       "3                     51  \n",
       "4                     80  \n",
       "..                   ...  \n",
       "961                    3  \n",
       "964                   94  \n",
       "966                   97  \n",
       "968                   93  \n",
       "969                   60  \n",
       "\n",
       "[894 rows x 14 columns]"
      ]
     },
     "execution_count": 698,
     "metadata": {},
     "output_type": "execute_result"
    }
   ],
   "source": [
    "data['profitability_ratio'] = (data['Profitability'] / (data['revenue'])) * 100\n",
    "data['profitability_ratio'] = data['profitability_ratio'].astype(int)\n",
    "data"
   ]
  },
  {
   "cell_type": "code",
   "execution_count": null,
   "id": "f77b630a",
   "metadata": {},
   "outputs": [],
   "source": []
  },
  {
   "cell_type": "code",
   "execution_count": 699,
   "id": "5c278b76",
   "metadata": {
    "scrolled": true
   },
   "outputs": [
    {
     "data": {
      "image/png": "[encoded data removed]",
      "text/plain": [
       "<Figure size 648x360 with 1 Axes>"
      ]
     },
     "metadata": {
      "needs_background": "light"
     },
     "output_type": "display_data"
    }
   ],
   "source": [
    "sns.histplot(data=data, x='Profitability');"
   ]
  },
  {
   "cell_type": "code",
   "execution_count": 700,
   "id": "79785e47",
   "metadata": {
    "scrolled": true
   },
   "outputs": [
    {
     "data": {
      "text/plain": [
       "<matplotlib.collections.PathCollection at 0x7ff3a16926d0>"
      ]
     },
     "execution_count": 700,
     "metadata": {},
     "output_type": "execute_result"
    },
    {
     "data": {
      "image/png": "[encoded data removed]",
      "text/plain": [
       "<Figure size 648x360 with 1 Axes>"
      ]
     },
     "metadata": {
      "needs_background": "light"
     },
     "output_type": "display_data"
    }
   ],
   "source": [
    "#  Remove the outliers using 3𝜎 rule \n",
    "x = np.arange(len(data))\n",
    "y=data['Profitability']\n",
    "plt.plot(x, y.mean()+x*0, '--')\n",
    "plt.plot(x, y.mean()-3*y.std()+x*0, '--',c='r')\n",
    "plt.plot(x, y.mean()+3*y.std()+x*0, '--', c='r')\n",
    "plt.scatter(x, y,s=2)"
   ]
  },
  {
   "cell_type": "code",
   "execution_count": 701,
   "id": "a4321752",
   "metadata": {},
   "outputs": [
    {
     "data": {
      "text/plain": [
       "1896.8044053974502"
      ]
     },
     "execution_count": 701,
     "metadata": {},
     "output_type": "execute_result"
    }
   ],
   "source": [
    "threshold  = data['Profitability'].std()*3\n",
    "threshold"
   ]
  },
  {
   "cell_type": "code",
   "execution_count": 702,
   "id": "cc20e714",
   "metadata": {},
   "outputs": [
    {
     "data": {
      "text/plain": [
       "(18, 14)"
      ]
     },
     "execution_count": 702,
     "metadata": {},
     "output_type": "execute_result"
    }
   ],
   "source": [
    "outliers_df = data[data['Profitability'] > threshold]\n",
    "outliers_df.shape"
   ]
  },
  {
   "cell_type": "code",
   "execution_count": 703,
   "id": "49be4884",
   "metadata": {},
   "outputs": [
    {
     "data": {
      "text/html": [
       "<div>\n",
       "<style scoped>\n",
       "    .dataframe tbody tr th:only-of-type {\n",
       "        vertical-align: middle;\n",
       "    }\n",
       "\n",
       "    .dataframe tbody tr th {\n",
       "        vertical-align: top;\n",
       "    }\n",
       "\n",
       "    .dataframe thead th {\n",
       "        text-align: right;\n",
       "    }\n",
       "</style>\n",
       "<table border=\"1\" class=\"dataframe\">\n",
       "  <thead>\n",
       "    <tr style=\"text-align: right;\">\n",
       "      <th></th>\n",
       "      <th>Movie</th>\n",
       "      <th>LeadStudio</th>\n",
       "      <th>RottenTomatoes</th>\n",
       "      <th>AudienceScore</th>\n",
       "      <th>Story</th>\n",
       "      <th>Genre</th>\n",
       "      <th>DomesticGross</th>\n",
       "      <th>ForeignGross</th>\n",
       "      <th>WorldGross</th>\n",
       "      <th>Budget</th>\n",
       "      <th>Profitability</th>\n",
       "      <th>Year</th>\n",
       "      <th>revenue</th>\n",
       "      <th>profitability_ratio</th>\n",
       "    </tr>\n",
       "  </thead>\n",
       "  <tbody>\n",
       "    <tr>\n",
       "      <th>0</th>\n",
       "      <td>Spider-Man 3</td>\n",
       "      <td>Sony</td>\n",
       "      <td>61.0</td>\n",
       "      <td>54.0</td>\n",
       "      <td>Metamorphosis</td>\n",
       "      <td>Action</td>\n",
       "      <td>336.53</td>\n",
       "      <td>554.34</td>\n",
       "      <td>890.87</td>\n",
       "      <td>258.0</td>\n",
       "      <td>345.30</td>\n",
       "      <td>2007</td>\n",
       "      <td>603.30</td>\n",
       "      <td>57</td>\n",
       "    </tr>\n",
       "    <tr>\n",
       "      <th>1</th>\n",
       "      <td>Shrek the Third</td>\n",
       "      <td>Paramount</td>\n",
       "      <td>42.0</td>\n",
       "      <td>57.0</td>\n",
       "      <td>Quest</td>\n",
       "      <td>Animation</td>\n",
       "      <td>322.72</td>\n",
       "      <td>476.24</td>\n",
       "      <td>798.96</td>\n",
       "      <td>160.0</td>\n",
       "      <td>499.35</td>\n",
       "      <td>2007</td>\n",
       "      <td>659.35</td>\n",
       "      <td>75</td>\n",
       "    </tr>\n",
       "    <tr>\n",
       "      <th>2</th>\n",
       "      <td>Transformers</td>\n",
       "      <td>Paramount</td>\n",
       "      <td>57.0</td>\n",
       "      <td>89.0</td>\n",
       "      <td>Monster Force</td>\n",
       "      <td>Action</td>\n",
       "      <td>319.25</td>\n",
       "      <td>390.46</td>\n",
       "      <td>709.71</td>\n",
       "      <td>150.0</td>\n",
       "      <td>473.14</td>\n",
       "      <td>2007</td>\n",
       "      <td>623.14</td>\n",
       "      <td>75</td>\n",
       "    </tr>\n",
       "    <tr>\n",
       "      <th>3</th>\n",
       "      <td>Pirates of the Caribbean: At World's End</td>\n",
       "      <td>Disney</td>\n",
       "      <td>45.0</td>\n",
       "      <td>74.0</td>\n",
       "      <td>Rescue</td>\n",
       "      <td>Action</td>\n",
       "      <td>309.42</td>\n",
       "      <td>654.00</td>\n",
       "      <td>963.42</td>\n",
       "      <td>300.0</td>\n",
       "      <td>321.14</td>\n",
       "      <td>2007</td>\n",
       "      <td>621.14</td>\n",
       "      <td>51</td>\n",
       "    </tr>\n",
       "    <tr>\n",
       "      <th>4</th>\n",
       "      <td>Harry Potter and the Order of the Phoenix</td>\n",
       "      <td>Warner Bros</td>\n",
       "      <td>78.0</td>\n",
       "      <td>82.0</td>\n",
       "      <td>Quest</td>\n",
       "      <td>Adventure</td>\n",
       "      <td>292.00</td>\n",
       "      <td>647.88</td>\n",
       "      <td>939.89</td>\n",
       "      <td>150.0</td>\n",
       "      <td>626.59</td>\n",
       "      <td>2007</td>\n",
       "      <td>776.59</td>\n",
       "      <td>80</td>\n",
       "    </tr>\n",
       "    <tr>\n",
       "      <th>...</th>\n",
       "      <td>...</td>\n",
       "      <td>...</td>\n",
       "      <td>...</td>\n",
       "      <td>...</td>\n",
       "      <td>...</td>\n",
       "      <td>...</td>\n",
       "      <td>...</td>\n",
       "      <td>...</td>\n",
       "      <td>...</td>\n",
       "      <td>...</td>\n",
       "      <td>...</td>\n",
       "      <td>...</td>\n",
       "      <td>...</td>\n",
       "      <td>...</td>\n",
       "    </tr>\n",
       "    <tr>\n",
       "      <th>961</th>\n",
       "      <td>Girl Most Likely</td>\n",
       "      <td>Roadside Attractions</td>\n",
       "      <td>20.0</td>\n",
       "      <td>35.0</td>\n",
       "      <td>none</td>\n",
       "      <td>none</td>\n",
       "      <td>1.38</td>\n",
       "      <td>0.00</td>\n",
       "      <td>1.38</td>\n",
       "      <td>60.0</td>\n",
       "      <td>2.30</td>\n",
       "      <td>2013</td>\n",
       "      <td>62.30</td>\n",
       "      <td>3</td>\n",
       "    </tr>\n",
       "    <tr>\n",
       "      <th>964</th>\n",
       "      <td>The Butler</td>\n",
       "      <td>Weinstein</td>\n",
       "      <td>73.0</td>\n",
       "      <td>79.0</td>\n",
       "      <td>none</td>\n",
       "      <td>none</td>\n",
       "      <td>116.63</td>\n",
       "      <td>51.11</td>\n",
       "      <td>167.74</td>\n",
       "      <td>30.0</td>\n",
       "      <td>559.14</td>\n",
       "      <td>2013</td>\n",
       "      <td>589.14</td>\n",
       "      <td>94</td>\n",
       "    </tr>\n",
       "    <tr>\n",
       "      <th>966</th>\n",
       "      <td>The Call</td>\n",
       "      <td>TriStar</td>\n",
       "      <td>43.0</td>\n",
       "      <td>66.0</td>\n",
       "      <td>none</td>\n",
       "      <td>none</td>\n",
       "      <td>51.87</td>\n",
       "      <td>16.70</td>\n",
       "      <td>68.57</td>\n",
       "      <td>13.0</td>\n",
       "      <td>527.48</td>\n",
       "      <td>2013</td>\n",
       "      <td>540.48</td>\n",
       "      <td>97</td>\n",
       "    </tr>\n",
       "    <tr>\n",
       "      <th>968</th>\n",
       "      <td>John Dies at the End</td>\n",
       "      <td>Magnolia</td>\n",
       "      <td>61.0</td>\n",
       "      <td>53.0</td>\n",
       "      <td>none</td>\n",
       "      <td>none</td>\n",
       "      <td>0.14</td>\n",
       "      <td>0.00</td>\n",
       "      <td>0.14</td>\n",
       "      <td>1.0</td>\n",
       "      <td>14.20</td>\n",
       "      <td>2013</td>\n",
       "      <td>15.20</td>\n",
       "      <td>93</td>\n",
       "    </tr>\n",
       "    <tr>\n",
       "      <th>969</th>\n",
       "      <td>Lovelace</td>\n",
       "      <td>Radius-TWC</td>\n",
       "      <td>55.0</td>\n",
       "      <td>37.0</td>\n",
       "      <td>none</td>\n",
       "      <td>Biography</td>\n",
       "      <td>0.36</td>\n",
       "      <td>1.17</td>\n",
       "      <td>1.52</td>\n",
       "      <td>10.0</td>\n",
       "      <td>15.25</td>\n",
       "      <td>2013</td>\n",
       "      <td>25.25</td>\n",
       "      <td>60</td>\n",
       "    </tr>\n",
       "  </tbody>\n",
       "</table>\n",
       "<p>876 rows × 14 columns</p>\n",
       "</div>"
      ],
      "text/plain": [
       "                                         Movie            LeadStudio  \\\n",
       "0                                 Spider-Man 3                  Sony   \n",
       "1                              Shrek the Third             Paramount   \n",
       "2                                 Transformers             Paramount   \n",
       "3     Pirates of the Caribbean: At World's End                Disney   \n",
       "4    Harry Potter and the Order of the Phoenix           Warner Bros   \n",
       "..                                         ...                   ...   \n",
       "961                           Girl Most Likely  Roadside Attractions   \n",
       "964                                 The Butler             Weinstein   \n",
       "966                                   The Call               TriStar   \n",
       "968                       John Dies at the End              Magnolia   \n",
       "969                                   Lovelace            Radius-TWC   \n",
       "\n",
       "     RottenTomatoes  AudienceScore          Story      Genre  DomesticGross  \\\n",
       "0              61.0           54.0  Metamorphosis     Action         336.53   \n",
       "1              42.0           57.0          Quest  Animation         322.72   \n",
       "2              57.0           89.0  Monster Force     Action         319.25   \n",
       "3              45.0           74.0         Rescue     Action         309.42   \n",
       "4              78.0           82.0          Quest  Adventure         292.00   \n",
       "..              ...            ...            ...        ...            ...   \n",
       "961            20.0           35.0           none       none           1.38   \n",
       "964            73.0           79.0           none       none         116.63   \n",
       "966            43.0           66.0           none       none          51.87   \n",
       "968            61.0           53.0           none       none           0.14   \n",
       "969            55.0           37.0           none  Biography           0.36   \n",
       "\n",
       "     ForeignGross  WorldGross  Budget  Profitability  Year  revenue  \\\n",
       "0          554.34      890.87   258.0         345.30  2007   603.30   \n",
       "1          476.24      798.96   160.0         499.35  2007   659.35   \n",
       "2          390.46      709.71   150.0         473.14  2007   623.14   \n",
       "3          654.00      963.42   300.0         321.14  2007   621.14   \n",
       "4          647.88      939.89   150.0         626.59  2007   776.59   \n",
       "..            ...         ...     ...            ...   ...      ...   \n",
       "961          0.00        1.38    60.0           2.30  2013    62.30   \n",
       "964         51.11      167.74    30.0         559.14  2013   589.14   \n",
       "966         16.70       68.57    13.0         527.48  2013   540.48   \n",
       "968          0.00        0.14     1.0          14.20  2013    15.20   \n",
       "969          1.17        1.52    10.0          15.25  2013    25.25   \n",
       "\n",
       "     profitability_ratio  \n",
       "0                     57  \n",
       "1                     75  \n",
       "2                     75  \n",
       "3                     51  \n",
       "4                     80  \n",
       "..                   ...  \n",
       "961                    3  \n",
       "964                   94  \n",
       "966                   97  \n",
       "968                   93  \n",
       "969                   60  \n",
       "\n",
       "[876 rows x 14 columns]"
      ]
     },
     "execution_count": 703,
     "metadata": {},
     "output_type": "execute_result"
    }
   ],
   "source": [
    "df =data[data['Profitability'] < threshold]\n",
    "df"
   ]
  },
  {
   "cell_type": "code",
   "execution_count": 704,
   "id": "02104744",
   "metadata": {},
   "outputs": [
    {
     "data": {
      "image/png": "[encoded data removed]",
      "text/plain": [
       "<Figure size 648x360 with 1 Axes>"
      ]
     },
     "metadata": {
      "needs_background": "light"
     },
     "output_type": "display_data"
    }
   ],
   "source": [
    "sns.histplot(data=df, x='Profitability');"
   ]
  },
  {
   "cell_type": "markdown",
   "id": "c6ed952f",
   "metadata": {},
   "source": [
    "## Perform exploratory analysis and visualization\n",
    "\n",
    "- Compute the mean, sum, range, and other interesting statistics for numeric columns \n",
    "- Explore distributions of numeric columns using histograms etc. \n",
    "- Explore distributions of categorical columns using bar chart etc. \n",
    "- Explore relationship between columns using scatter plots, bar charts etc. \n",
    "- Summarize your interesting insights from the above exploratory analysis "
   ]
  },
  {
   "cell_type": "code",
   "execution_count": 705,
   "id": "5180fee7",
   "metadata": {
    "scrolled": false
   },
   "outputs": [
    {
     "data": {
      "text/html": [
       "<div>\n",
       "<style scoped>\n",
       "    .dataframe tbody tr th:only-of-type {\n",
       "        vertical-align: middle;\n",
       "    }\n",
       "\n",
       "    .dataframe tbody tr th {\n",
       "        vertical-align: top;\n",
       "    }\n",
       "\n",
       "    .dataframe thead th {\n",
       "        text-align: right;\n",
       "    }\n",
       "</style>\n",
       "<table border=\"1\" class=\"dataframe\">\n",
       "  <thead>\n",
       "    <tr style=\"text-align: right;\">\n",
       "      <th></th>\n",
       "      <th>RottenTomatoes</th>\n",
       "      <th>AudienceScore</th>\n",
       "      <th>DomesticGross</th>\n",
       "      <th>ForeignGross</th>\n",
       "      <th>WorldGross</th>\n",
       "      <th>Budget</th>\n",
       "      <th>Profitability</th>\n",
       "      <th>Year</th>\n",
       "      <th>revenue</th>\n",
       "      <th>profitability_ratio</th>\n",
       "    </tr>\n",
       "  </thead>\n",
       "  <tbody>\n",
       "    <tr>\n",
       "      <th>count</th>\n",
       "      <td>876.000000</td>\n",
       "      <td>876.000000</td>\n",
       "      <td>876.000000</td>\n",
       "      <td>876.000000</td>\n",
       "      <td>876.000000</td>\n",
       "      <td>876.000000</td>\n",
       "      <td>876.000000</td>\n",
       "      <td>876.000000</td>\n",
       "      <td>876.000000</td>\n",
       "      <td>876.00000</td>\n",
       "    </tr>\n",
       "    <tr>\n",
       "      <th>mean</th>\n",
       "      <td>51.601598</td>\n",
       "      <td>61.126712</td>\n",
       "      <td>73.206402</td>\n",
       "      <td>99.107955</td>\n",
       "      <td>172.167104</td>\n",
       "      <td>57.311986</td>\n",
       "      <td>312.201644</td>\n",
       "      <td>2010.079909</td>\n",
       "      <td>369.513630</td>\n",
       "      <td>79.83105</td>\n",
       "    </tr>\n",
       "    <tr>\n",
       "      <th>std</th>\n",
       "      <td>26.824423</td>\n",
       "      <td>17.035054</td>\n",
       "      <td>82.229554</td>\n",
       "      <td>156.358625</td>\n",
       "      <td>231.022504</td>\n",
       "      <td>53.826318</td>\n",
       "      <td>245.732251</td>\n",
       "      <td>1.952114</td>\n",
       "      <td>248.859034</td>\n",
       "      <td>16.32334</td>\n",
       "    </tr>\n",
       "    <tr>\n",
       "      <th>min</th>\n",
       "      <td>0.000000</td>\n",
       "      <td>0.000000</td>\n",
       "      <td>0.140000</td>\n",
       "      <td>0.000000</td>\n",
       "      <td>0.140000</td>\n",
       "      <td>0.200000</td>\n",
       "      <td>2.300000</td>\n",
       "      <td>2007.000000</td>\n",
       "      <td>15.200000</td>\n",
       "      <td>3.00000</td>\n",
       "    </tr>\n",
       "    <tr>\n",
       "      <th>25%</th>\n",
       "      <td>28.000000</td>\n",
       "      <td>49.000000</td>\n",
       "      <td>21.367500</td>\n",
       "      <td>14.247500</td>\n",
       "      <td>39.365000</td>\n",
       "      <td>20.000000</td>\n",
       "      <td>147.022500</td>\n",
       "      <td>2008.000000</td>\n",
       "      <td>194.880000</td>\n",
       "      <td>70.00000</td>\n",
       "    </tr>\n",
       "    <tr>\n",
       "      <th>50%</th>\n",
       "      <td>52.000000</td>\n",
       "      <td>61.500000</td>\n",
       "      <td>43.975000</td>\n",
       "      <td>44.568500</td>\n",
       "      <td>89.654500</td>\n",
       "      <td>37.000000</td>\n",
       "      <td>251.790000</td>\n",
       "      <td>2010.000000</td>\n",
       "      <td>310.015000</td>\n",
       "      <td>85.00000</td>\n",
       "    </tr>\n",
       "    <tr>\n",
       "      <th>75%</th>\n",
       "      <td>75.000000</td>\n",
       "      <td>74.000000</td>\n",
       "      <td>94.885000</td>\n",
       "      <td>110.075000</td>\n",
       "      <td>206.047500</td>\n",
       "      <td>75.000000</td>\n",
       "      <td>396.297500</td>\n",
       "      <td>2012.000000</td>\n",
       "      <td>474.000000</td>\n",
       "      <td>93.00000</td>\n",
       "    </tr>\n",
       "    <tr>\n",
       "      <th>max</th>\n",
       "      <td>99.000000</td>\n",
       "      <td>96.000000</td>\n",
       "      <td>760.500000</td>\n",
       "      <td>2021.000000</td>\n",
       "      <td>2781.500000</td>\n",
       "      <td>300.000000</td>\n",
       "      <td>1702.600000</td>\n",
       "      <td>2013.000000</td>\n",
       "      <td>1703.600000</td>\n",
       "      <td>99.00000</td>\n",
       "    </tr>\n",
       "  </tbody>\n",
       "</table>\n",
       "</div>"
      ],
      "text/plain": [
       "       RottenTomatoes  AudienceScore  DomesticGross  ForeignGross  \\\n",
       "count      876.000000     876.000000     876.000000    876.000000   \n",
       "mean        51.601598      61.126712      73.206402     99.107955   \n",
       "std         26.824423      17.035054      82.229554    156.358625   \n",
       "min          0.000000       0.000000       0.140000      0.000000   \n",
       "25%         28.000000      49.000000      21.367500     14.247500   \n",
       "50%         52.000000      61.500000      43.975000     44.568500   \n",
       "75%         75.000000      74.000000      94.885000    110.075000   \n",
       "max         99.000000      96.000000     760.500000   2021.000000   \n",
       "\n",
       "        WorldGross      Budget  Profitability         Year      revenue  \\\n",
       "count   876.000000  876.000000     876.000000   876.000000   876.000000   \n",
       "mean    172.167104   57.311986     312.201644  2010.079909   369.513630   \n",
       "std     231.022504   53.826318     245.732251     1.952114   248.859034   \n",
       "min       0.140000    0.200000       2.300000  2007.000000    15.200000   \n",
       "25%      39.365000   20.000000     147.022500  2008.000000   194.880000   \n",
       "50%      89.654500   37.000000     251.790000  2010.000000   310.015000   \n",
       "75%     206.047500   75.000000     396.297500  2012.000000   474.000000   \n",
       "max    2781.500000  300.000000    1702.600000  2013.000000  1703.600000   \n",
       "\n",
       "       profitability_ratio  \n",
       "count            876.00000  \n",
       "mean              79.83105  \n",
       "std               16.32334  \n",
       "min                3.00000  \n",
       "25%               70.00000  \n",
       "50%               85.00000  \n",
       "75%               93.00000  \n",
       "max               99.00000  "
      ]
     },
     "execution_count": 705,
     "metadata": {},
     "output_type": "execute_result"
    }
   ],
   "source": [
    "df.describe()"
   ]
  },
  {
   "cell_type": "code",
   "execution_count": 706,
   "id": "0594f0f7",
   "metadata": {},
   "outputs": [
    {
     "data": {
      "image/png": "[encoded data removed]",
      "text/plain": [
       "<Figure size 648x360 with 1 Axes>"
      ]
     },
     "metadata": {
      "needs_background": "light"
     },
     "output_type": "display_data"
    }
   ],
   "source": [
    "plt.title('Distribution of movie ratings')\n",
    "\n",
    "sns.histplot([df.AudienceScore, df.RottenTomatoes], bins=30 );\n",
    "\n",
    "plt.legend(['RottenTomatoes','AudienceScore']);"
   ]
  },
  {
   "cell_type": "code",
   "execution_count": 707,
   "id": "e996a514",
   "metadata": {},
   "outputs": [
    {
     "data": {
      "image/png": "[encoded data removed]",
      "text/plain": [
       "<Figure size 648x360 with 1 Axes>"
      ]
     },
     "metadata": {
      "needs_background": "light"
     },
     "output_type": "display_data"
    }
   ],
   "source": [
    "plt.title('Distribution of Revenue')\n",
    "sns.histplot(data=df, x='revenue');"
   ]
  },
  {
   "cell_type": "code",
   "execution_count": 708,
   "id": "e7f1e350",
   "metadata": {},
   "outputs": [
    {
     "data": {
      "image/png": "[encoded data removed]",
      "text/plain": [
       "<Figure size 648x360 with 1 Axes>"
      ]
     },
     "metadata": {
      "needs_background": "light"
     },
     "output_type": "display_data"
    }
   ],
   "source": [
    "plt.title('Distribution of Budget')\n",
    "sns.histplot(data=df, x='Budget');"
   ]
  },
  {
   "cell_type": "code",
   "execution_count": 709,
   "id": "36a5b2f1",
   "metadata": {},
   "outputs": [
    {
     "data": {
      "image/png": "[encoded data removed]",
      "text/plain": [
       "<Figure size 648x360 with 1 Axes>"
      ]
     },
     "metadata": {
      "needs_background": "light"
     },
     "output_type": "display_data"
    }
   ],
   "source": [
    "plt.title('Movie ratings')\n",
    "sns.scatterplot(x=df.RottenTomatoes, y=df.AudienceScore);"
   ]
  },
  {
   "cell_type": "code",
   "execution_count": 710,
   "id": "a65728b2",
   "metadata": {},
   "outputs": [
    {
     "data": {
      "image/png": "[encoded data removed]",
      "text/plain": [
       "<Figure size 648x360 with 1 Axes>"
      ]
     },
     "metadata": {
      "needs_background": "light"
     },
     "output_type": "display_data"
    }
   ],
   "source": [
    "plt.title('Movie by Year')\n",
    "sns.set(style=\"darkgrid\")\n",
    "sns.countplot(x=\"Year\", data=df, palette=\"Set2\");"
   ]
  },
  {
   "cell_type": "code",
   "execution_count": 711,
   "id": "17a5e7e1",
   "metadata": {},
   "outputs": [
    {
     "data": {
      "image/png": "[encoded data removed]",
      "text/plain": [
       "<Figure size 648x360 with 1 Axes>"
      ]
     },
     "metadata": {},
     "output_type": "display_data"
    }
   ],
   "source": [
    "df2=df[['DomesticGross','ForeignGross', 'WorldGross']]\n",
    "sns.barplot(data=df2);"
   ]
  },
  {
   "cell_type": "code",
   "execution_count": 712,
   "id": "2941ce76",
   "metadata": {},
   "outputs": [
    {
     "data": {
      "image/png": "[encoded data removed]",
      "text/plain": [
       "<Figure size 576x1080 with 1 Axes>"
      ]
     },
     "metadata": {},
     "output_type": "display_data"
    }
   ],
   "source": [
    "story = df.Story.value_counts().head(15)\n",
    "story = story[story.index != 'none']\n",
    "story.plot(kind='pie', figsize=(8,15));"
   ]
  },
  {
   "cell_type": "code",
   "execution_count": 713,
   "id": "f95db0f4",
   "metadata": {},
   "outputs": [
    {
     "data": {
      "image/png": "[encoded data removed]",
      "text/plain": [
       "<Figure size 864x432 with 1 Axes>"
      ]
     },
     "metadata": {},
     "output_type": "display_data"
    }
   ],
   "source": [
    "movies = df.LeadStudio.value_counts().head(15)\n",
    "plt.figure(figsize=(12,6))\n",
    "plt.xticks(rotation=75)\n",
    "plt.title('Number of Movies by Lead Studio')\n",
    "sns.barplot(y=movies.index, x=movies);"
   ]
  },
  {
   "cell_type": "markdown",
   "id": "a0c9f21c",
   "metadata": {},
   "source": [
    "# Ask and answer questions about the data\n",
    "\n",
    "## 1. Which studios made the highest number of movies?"
   ]
  },
  {
   "cell_type": "code",
   "execution_count": 714,
   "id": "13befed5",
   "metadata": {},
   "outputs": [
    {
     "data": {
      "text/plain": [
       "Year  LeadStudio      \n",
       "2007  Paramount           16\n",
       "      Warner Bros         14\n",
       "      Independent         13\n",
       "2008  Independent         28\n",
       "      Warner Bros         21\n",
       "      Fox                 15\n",
       "2009  Warner Bros         20\n",
       "      Independent         18\n",
       "      Fox                 17\n",
       "2010  Independent         39\n",
       "      Warner Bros         14\n",
       "      Fox                 12\n",
       "2011  Independent         27\n",
       "      Warner Bros         14\n",
       "      Relativity Media    13\n",
       "2012  Universal           14\n",
       "      Sony                12\n",
       "      Fox                 11\n",
       "2013  Sony                16\n",
       "      Warner Bros         16\n",
       "      Fox                 13\n",
       "Name: LeadStudio, dtype: int64"
      ]
     },
     "execution_count": 714,
     "metadata": {},
     "output_type": "execute_result"
    }
   ],
   "source": [
    "Studio = df.groupby(['Year'])['LeadStudio'].value_counts()\n",
    "Studio.groupby(level=0).nlargest(3).reset_index(level=0, drop=True)"
   ]
  },
  {
   "cell_type": "markdown",
   "id": "f6d3f08d",
   "metadata": {},
   "source": [
    "* Independent Studio made the highest number of movies from 2007 to 2011 and Warner Bros and Sony are second and thrid place."
   ]
  },
  {
   "cell_type": "markdown",
   "id": "92eb94ab",
   "metadata": {},
   "source": [
    "## 2. Find the genre in which there has been the greatest number of movie released ?"
   ]
  },
  {
   "cell_type": "code",
   "execution_count": 715,
   "id": "55fca937",
   "metadata": {},
   "outputs": [
    {
     "data": {
      "image/png": "[encoded data removed]",
      "text/plain": [
       "<Figure size 864x432 with 1 Axes>"
      ]
     },
     "metadata": {},
     "output_type": "display_data"
    }
   ],
   "source": [
    "genre = df.Genre.value_counts()\n",
    "genre = genre[genre.index != 'none']\n",
    "plt.figure(figsize=(12,6))\n",
    "plt.xticks(rotation=75)\n",
    "plt.title('Number of Movies by Genre')\n",
    "sns.barplot(y=genre.index, x=genre);\n"
   ]
  },
  {
   "cell_type": "markdown",
   "id": "8bf5149c",
   "metadata": {},
   "source": [
    "* The greatest number of movie released were \" Comedy\" genre."
   ]
  },
  {
   "cell_type": "markdown",
   "id": "92a328f1",
   "metadata": {},
   "source": [
    "## 3. What are the names of top five movies with highest budget?"
   ]
  },
  {
   "cell_type": "code",
   "execution_count": 716,
   "id": "9d283ab7",
   "metadata": {},
   "outputs": [],
   "source": [
    "top_five=df[['Movie', 'Budget']].sort_values(by=['Budget'], ascending=False).head(5)\n"
   ]
  },
  {
   "cell_type": "code",
   "execution_count": 717,
   "id": "c642004c",
   "metadata": {},
   "outputs": [
    {
     "data": {
      "image/png": "[encoded data removed]",
      "text/plain": [
       "<Figure size 648x360 with 1 Axes>"
      ]
     },
     "metadata": {},
     "output_type": "display_data"
    }
   ],
   "source": [
    "plt.title(\"Top five movies with highest budget\")\n",
    "sns.barplot(data= top_five, y= \"Movie\", x=\"Budget\");"
   ]
  },
  {
   "cell_type": "markdown",
   "id": "3e165919",
   "metadata": {},
   "source": [
    "## 4. Find the highest rated movie in the \"Love\" story type? Which genre has the highest rating?"
   ]
  },
  {
   "cell_type": "code",
   "execution_count": 735,
   "id": "b204e907",
   "metadata": {},
   "outputs": [
    {
     "data": {
      "text/html": [
       "<div>\n",
       "<style scoped>\n",
       "    .dataframe tbody tr th:only-of-type {\n",
       "        vertical-align: middle;\n",
       "    }\n",
       "\n",
       "    .dataframe tbody tr th {\n",
       "        vertical-align: top;\n",
       "    }\n",
       "\n",
       "    .dataframe thead th {\n",
       "        text-align: right;\n",
       "    }\n",
       "</style>\n",
       "<table border=\"1\" class=\"dataframe\">\n",
       "  <thead>\n",
       "    <tr style=\"text-align: right;\">\n",
       "      <th></th>\n",
       "      <th>Movie</th>\n",
       "      <th>RottenTomatoes</th>\n",
       "      <th>AudienceScore</th>\n",
       "      <th>Story</th>\n",
       "    </tr>\n",
       "  </thead>\n",
       "  <tbody>\n",
       "    <tr>\n",
       "      <th>574</th>\n",
       "      <td>Midnight in Paris</td>\n",
       "      <td>93.0</td>\n",
       "      <td>84.0</td>\n",
       "      <td>Love</td>\n",
       "    </tr>\n",
       "    <tr>\n",
       "      <th>19</th>\n",
       "      <td>Enchanted</td>\n",
       "      <td>93.0</td>\n",
       "      <td>80.0</td>\n",
       "      <td>Love</td>\n",
       "    </tr>\n",
       "    <tr>\n",
       "      <th>13</th>\n",
       "      <td>Knocked Up</td>\n",
       "      <td>91.0</td>\n",
       "      <td>83.0</td>\n",
       "      <td>Love</td>\n",
       "    </tr>\n",
       "    <tr>\n",
       "      <th>468</th>\n",
       "      <td>Tangled</td>\n",
       "      <td>89.0</td>\n",
       "      <td>88.0</td>\n",
       "      <td>Love</td>\n",
       "    </tr>\n",
       "    <tr>\n",
       "      <th>76</th>\n",
       "      <td>Waitress</td>\n",
       "      <td>89.0</td>\n",
       "      <td>67.0</td>\n",
       "      <td>Love</td>\n",
       "    </tr>\n",
       "  </tbody>\n",
       "</table>\n",
       "</div>"
      ],
      "text/plain": [
       "                 Movie  RottenTomatoes  AudienceScore Story\n",
       "574  Midnight in Paris            93.0           84.0  Love\n",
       "19           Enchanted            93.0           80.0  Love\n",
       "13          Knocked Up            91.0           83.0  Love\n",
       "468            Tangled            89.0           88.0  Love\n",
       "76            Waitress            89.0           67.0  Love"
      ]
     },
     "execution_count": 735,
     "metadata": {},
     "output_type": "execute_result"
    }
   ],
   "source": [
    "Love=df[df.Story =='Love']\n",
    "\n",
    "highest_rated=Love[['Movie', 'RottenTomatoes', 'AudienceScore','Story' ]].sort_values(by=['RottenTomatoes','AudienceScore'], ascending=False).head(5)\n",
    "highest_rated"
   ]
  },
  {
   "cell_type": "markdown",
   "id": "80850e39",
   "metadata": {},
   "source": [
    "* The highest rated movie in \"love\" story type is \"Midnight in Paris\"."
   ]
  },
  {
   "cell_type": "code",
   "execution_count": 753,
   "id": "b8974b9e",
   "metadata": {},
   "outputs": [
    {
     "data": {
      "text/html": [
       "<div>\n",
       "<style scoped>\n",
       "    .dataframe tbody tr th:only-of-type {\n",
       "        vertical-align: middle;\n",
       "    }\n",
       "\n",
       "    .dataframe tbody tr th {\n",
       "        vertical-align: top;\n",
       "    }\n",
       "\n",
       "    .dataframe thead th {\n",
       "        text-align: right;\n",
       "    }\n",
       "</style>\n",
       "<table border=\"1\" class=\"dataframe\">\n",
       "  <thead>\n",
       "    <tr style=\"text-align: right;\">\n",
       "      <th></th>\n",
       "      <th>Movie</th>\n",
       "      <th>RottenTomatoes</th>\n",
       "      <th>AudienceScore</th>\n",
       "      <th>Genre</th>\n",
       "    </tr>\n",
       "  </thead>\n",
       "  <tbody>\n",
       "    <tr>\n",
       "      <th>499</th>\n",
       "      <td>Toy Story 3</td>\n",
       "      <td>99.0</td>\n",
       "      <td>91.0</td>\n",
       "      <td>Animation</td>\n",
       "    </tr>\n",
       "    <tr>\n",
       "      <th>419</th>\n",
       "      <td>How to Train Your Dragon</td>\n",
       "      <td>98.0</td>\n",
       "      <td>90.0</td>\n",
       "      <td>Animation</td>\n",
       "    </tr>\n",
       "    <tr>\n",
       "      <th>243</th>\n",
       "      <td>Up</td>\n",
       "      <td>98.0</td>\n",
       "      <td>86.0</td>\n",
       "      <td>Animation</td>\n",
       "    </tr>\n",
       "    <tr>\n",
       "      <th>941</th>\n",
       "      <td>Before Midnight</td>\n",
       "      <td>98.0</td>\n",
       "      <td>82.0</td>\n",
       "      <td>none</td>\n",
       "    </tr>\n",
       "    <tr>\n",
       "      <th>611</th>\n",
       "      <td>The Artist</td>\n",
       "      <td>97.0</td>\n",
       "      <td>91.0</td>\n",
       "      <td>Drama</td>\n",
       "    </tr>\n",
       "  </tbody>\n",
       "</table>\n",
       "</div>"
      ],
      "text/plain": [
       "                        Movie  RottenTomatoes  AudienceScore      Genre\n",
       "499               Toy Story 3            99.0           91.0  Animation\n",
       "419  How to Train Your Dragon            98.0           90.0  Animation\n",
       "243                        Up            98.0           86.0  Animation\n",
       "941           Before Midnight            98.0           82.0       none\n",
       "611                The Artist            97.0           91.0      Drama"
      ]
     },
     "execution_count": 753,
     "metadata": {},
     "output_type": "execute_result"
    }
   ],
   "source": [
    "highest_rated1=df[['Movie', 'RottenTomatoes', 'AudienceScore','Genre' ]].sort_values(by=['RottenTomatoes','AudienceScore'], ascending=False).head(5)\n",
    "highest_rated1"
   ]
  },
  {
   "cell_type": "markdown",
   "id": "8d6796b9",
   "metadata": {},
   "source": [
    "Genre that has the highest rating is \"Animation\"."
   ]
  },
  {
   "cell_type": "markdown",
   "id": "097dd7f6",
   "metadata": {},
   "source": [
    "## 5. Is there a relationship between audience rating and profitiability? Which genre has the highest profitability?"
   ]
  },
  {
   "cell_type": "code",
   "execution_count": 751,
   "id": "a5493513",
   "metadata": {},
   "outputs": [
    {
     "data": {
      "image/png": "[encoded data removed]",
      "text/plain": [
       "<Figure size 648x360 with 1 Axes>"
      ]
     },
     "metadata": {},
     "output_type": "display_data"
    }
   ],
   "source": [
    "plt.title('Movie ratings')\n",
    "sns.scatterplot(x=df.AudienceScore, y=df.profitability_ratio);"
   ]
  },
  {
   "cell_type": "code",
   "execution_count": 750,
   "id": "a14a2eee",
   "metadata": {},
   "outputs": [
    {
     "data": {
      "image/png": "[encoded data removed]",
      "text/plain": [
       "<Figure size 648x360 with 1 Axes>"
      ]
     },
     "metadata": {},
     "output_type": "display_data"
    }
   ],
   "source": [
    "plt.title(\"Movie genre by profitiability ratio\")\n",
    "sns.barplot(x=df.profitability_ratio, y=df.Genre);"
   ]
  },
  {
   "cell_type": "markdown",
   "id": "297f9822",
   "metadata": {},
   "source": [
    "The relationship between profitability ratio and rating is when audience score increase, the profitability also increase and more packed. \"Documentary\" genre has the highest profitability. "
   ]
  },
  {
   "cell_type": "markdown",
   "id": "948bf0a9",
   "metadata": {},
   "source": [
    "## Summary\n",
    "\n",
    "I have covered the following in the project: \n",
    "\n",
    "- Loading and cleaning dataset using Pandas\n",
    "- Correcting outliers using 3𝜎 rule\n",
    "- Visualizing relationships between two or more variables using scatter plots\n",
    "- Distributions of variables using histograms & bar charts to \n",
    "- Plotting Matplotlib and Seaborn charts\n",
    "\n",
    "In this project, interesting thing I noticed was that Comedy movies we the most frequently produced movies, while the highest rated genre is Animation movie. so this is something to look more into, We can just ask the reason why is we procduce more Comdey movies while audience rating indicate pepole are more intersted in Animation Movies?\n",
    "\n",
    "References used:\n",
    "\n",
    "* Python Graph: https://python-graph-gallery.com/10-barplot-with-number-of-observation\n",
    "* Seaborn gallery: https://seaborn.pydata.org/examples/index.html\n",
    "* Matplotlib gallery: https://matplotlib.org/3.1.1/gallery/index.html"
   ]
  }
 ],
 "metadata": {
  "kernelspec": {
   "display_name": "Python 3 (ipykernel)",
   "language": "python",
   "name": "python3"
  },
  "language_info": {
   "codemirror_mode": {
    "name": "ipython",
    "version": 3
   },
   "file_extension": ".py",
   "mimetype": "text/x-python",
   "name": "python",
   "nbconvert_exporter": "python",
   "pygments_lexer": "ipython3",
   "version": "3.9.7"
  }
 },
 "nbformat": 4,
 "nbformat_minor": 5
}
